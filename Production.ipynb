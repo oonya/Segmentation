{
  "nbformat": 4,
  "nbformat_minor": 0,
  "metadata": {
    "colab": {
      "name": "Production.ipynb",
      "provenance": [],
      "mount_file_id": "12BhWxQBtu2k8DjtuettE0738M5s_6Yq9",
      "authorship_tag": "ABX9TyP3efKVkRtLlrfbke6kYOb0",
      "include_colab_link": true
    },
    "kernelspec": {
      "name": "python3",
      "display_name": "Python 3"
    }
  },
  "cells": [
    {
      "cell_type": "markdown",
      "metadata": {
        "id": "view-in-github",
        "colab_type": "text"
      },
      "source": [
        "<a href=\"https://colab.research.google.com/github/oonya/image-processing/blob/master/Production.ipynb\" target=\"_parent\"><img src=\"https://colab.research.google.com/assets/colab-badge.svg\" alt=\"Open In Colab\"/></a>"
      ]
    },
    {
      "cell_type": "code",
      "metadata": {
        "id": "LwdO2ZYDkYsV",
        "colab_type": "code",
        "colab": {
          "base_uri": "https://localhost:8080/",
          "height": 412
        },
        "outputId": "9b671ed8-5529-4a70-a2b1-f6186b9815ea"
      },
      "source": [
        "import cv2\n",
        "import numpy as np\n",
        "import matplotlib.pyplot as plt\n",
        "from sklearn.cluster import KMeans\n",
        "\n",
        "# RGBの画像をマスキングして返す\n",
        "def masking(img):\n",
        "\n",
        "  hsv = cv2.cvtColor(img, cv2.COLOR_RGB2HSV)\n",
        "  s = hsv[:, :, 1]\n",
        "\n",
        "  plt.gray()\n",
        "  s[s < 30] = 255\n",
        "  s[(s > 30) & (s != 255)] = 0\n",
        "\n",
        "  kernel = np.ones((10, 10), np.uint8)\n",
        "  mor = cv2.morphologyEx(s, cv2.MORPH_CLOSE, kernel)\n",
        "  mor = ~mor\n",
        "\n",
        "  contours, hierarchy = cv2.findContours(mor, cv2.RETR_EXTERNAL, cv2.CHAIN_APPROX_SIMPLE)\n",
        "  print(\"contours\",len(contours))\n",
        "\n",
        "  mask = np.zeros_like(img)\n",
        "  cv2.drawContours(mask, contours, -1, (255, 255, 255), -1)\n",
        "  mask = mask & img\n",
        "  return mask\n",
        "\n",
        "img1 = cv2.imread('drive/My Drive/latest1.JPG')\n",
        "img1 = cv2.cvtColor(img1, cv2.COLOR_BGR2RGB)\n",
        "# img2 = cv2.imread('drive/My Drive/latest2.JPG')\n",
        "# img2 = cv2.cvtColor(img2, cv2.COLOR_BGR2RGB)\n",
        "# img3 = cv2.imread('drive/My Drive/latest3.JPG')\n",
        "# img3 = cv2.cvtColor(img3, cv2.COLOR_BGR2RGB)\n",
        "# img4 = cv2.imread('drive/My Drive/latest4.JPG')\n",
        "# img4 = cv2.cvtColor(img4, cv2.COLOR_BGR2RGB)\n",
        "mask1 = masking(img1)\n",
        "# mask2 = masking(img2)\n",
        "# mask3 = masking(img3)\n",
        "# mask4 = masking(img4)\n",
        "\n",
        "\n",
        "# Kmeans start\n",
        "data = np.reshape(mask1, (mask1.shape[0]*mask1.shape[1], mask1.shape[2])) # クラスタリングのために2次元に直す\n",
        "\n",
        "data = data[(data != 0).all(axis=1)]\n",
        "\n",
        "n_clusters=5 # クラスタ数(何色に減色するか)\n",
        "model = KMeans(n_clusters=n_clusters, random_state=10).fit(data)\n",
        "labels = model.labels_\n",
        "\n",
        "plt.figure(2)\n",
        "data = data[:,0:3]\n",
        "\n",
        "fig = plt.figure()\n",
        "\n",
        "for l in range(0,n_clusters):\n",
        "    mean = np.mean(data[labels==l,:], axis=0)\n",
        "    data[labels==l,:]=mean\n",
        "    print(\"mean\", mean)\n",
        "    ax = fig.add_subplot(2, 3, l+1)\n",
        "    ax.imshow(np.uint8([[mean]]))\n",
        "\n",
        "# Kmemans end\n",
        "\n",
        "# plt.imshow(mask)\n",
        "\n",
        "# fig = plt.figure(figsize=(8, 8))\n",
        "# fig.suptitle('Binarization by Saturation', fontsize=25)\n",
        "# ax = fig.add_subplot(2, 2, 1)\n",
        "# ax.set_title('latest1')\n",
        "# ax.imshow(mask1)\n",
        "# ax = fig.add_subplot(2, 2, 2)\n",
        "# ax.set_title('latest2')\n",
        "# ax.imshow(mask2)\n",
        "# ax = fig.add_subplot(2, 2, 3)\n",
        "# ax.set_title('latest3')\n",
        "# ax.imshow(mask3)\n",
        "# ax = fig.add_subplot(2, 2, 4)\n",
        "# ax.set_title('latest4')\n",
        "# ax.imshow(mask4)\n",
        "\n",
        "\n",
        "# print(len(contours))\n",
        "\n",
        "# find RETR_EXTERNAL(一番外側)"
      ],
      "execution_count": 14,
      "outputs": [
        {
          "output_type": "stream",
          "text": [
            "contours 1\n",
            "mean [119.98999204 142.93977774  21.21673511]\n",
            "mean [202.74219106 196.0137654   65.02198131]\n",
            "mean [131.46528927  51.82792707  50.51001816]\n",
            "mean [200.67022745 192.31305097 116.46014663]\n",
            "mean [150.32028327  97.98353335  91.77994378]\n"
          ],
          "name": "stdout"
        },
        {
          "output_type": "display_data",
          "data": {
            "text/plain": [
              "<Figure size 432x288 with 0 Axes>"
            ]
          },
          "metadata": {
            "tags": []
          }
        },
        {
          "output_type": "display_data",
          "data": {
            "text/plain": [
              "<Figure size 432x288 with 0 Axes>"
            ]
          },
          "metadata": {
            "tags": []
          }
        },
        {
          "output_type": "display_data",
          "data": {
            "image/png": "[encoded data removed]",
            "text/plain": [
              "<Figure size 432x288 with 5 Axes>"
            ]
          },
          "metadata": {
            "tags": [],
            "needs_background": "light"
          }
        }
      ]
    },
    {
      "cell_type": "code",
      "metadata": {
        "id": "kM-GUWlHviWA",
        "colab_type": "code",
        "colab": {
          "base_uri": "https://localhost:8080/",
          "height": 35
        },
        "outputId": "745e97c1-ad56-42dd-a0bd-7340dea206bf"
      },
      "source": [
        "print(np.array([0, 0, 0]*3))"
      ],
      "execution_count": null,
      "outputs": [
        {
          "output_type": "stream",
          "text": [
            "[0 0 0 0 0 0 0 0 0]\n"
          ],
          "name": "stdout"
        }
      ]
    }
  ]
}