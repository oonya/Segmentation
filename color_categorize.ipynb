{
  "nbformat": 4,
  "nbformat_minor": 0,
  "metadata": {
    "colab": {
      "name": "color_categorize.ipynb",
      "provenance": [],
      "collapsed_sections": [],
      "mount_file_id": "1EwyPuNFJyFN3VoDXMAX5y4C893AOGrJI",
      "authorship_tag": "ABX9TyMYzFNfrRpEYbyyz83SFD/x",
      "include_colab_link": true
    },
    "kernelspec": {
      "name": "python3",
      "display_name": "Python 3"
    }
  },
  "cells": [
    {
      "cell_type": "markdown",
      "metadata": {
        "id": "view-in-github",
        "colab_type": "text"
      },
      "source": [
        "<a href=\"https://colab.research.google.com/github/oonya/image-processing/blob/master/color_categorize.ipynb\" target=\"_parent\"><img src=\"https://colab.research.google.com/assets/colab-badge.svg\" alt=\"Open In Colab\"/></a>"
      ]
    },
    {
      "cell_type": "markdown",
      "metadata": {
        "id": "QqBjEqmkn1Es"
      },
      "source": [
        "hsvの範囲を決めてそれより前とか後とかで色を決定する\n",
        "ユークリッド距離である程度の距離までを決定する\n",
        "そしたら距離を1.5倍とかにしてもう一回"
      ]
    },
    {
      "cell_type": "markdown",
      "metadata": {
        "id": "XwvCPyQGPOI7"
      },
      "source": [
        "ユークリッド距離の近いものは赤にする\n",
        "\n",
        "ある程度遠いものは、決まったものを除いてもう一回\n",
        "範囲は広くする"
      ]
    },
    {
      "cell_type": "code",
      "metadata": {
        "id": "hs5yR13NTVJw",
        "outputId": "415d9234-b7fa-4f2b-8c9c-9dc5df0af8f5",
        "colab": {
          "base_uri": "https://localhost:8080/",
          "height": 212
        }
      },
      "source": [
        "import numpy as np\n",
        "import cv2\n",
        "import matplotlib.pyplot as plt\n",
        "\n",
        "# 224 218 124\n",
        "target = np.uint8([[[224, 218, 124]]])# yellow\n",
        "target = cv2.cvtColor(target, cv2.COLOR_RGB2HSV)\n",
        "\n",
        "rgb = np.uint8([[[0,255,0], # green\n",
        "                 [255, 0, 0],# red\n",
        "                 [0, 0, 255],# blue\n",
        "                 [0, 0, 0],#   black\n",
        "                 [255, 255, 0],#  yellow\n",
        "                 [128, 0, 128],#  purple\n",
        "                 [255, 165, 0],#  orange\n",
        "                 [255, 102, 204],# pink\n",
        "                 [255, 255, 255],# white\n",
        "                 [205, 133, 63],# brown\n",
        "                 ]])\n",
        "\n",
        "colors = ['green', 'red', 'blue', 'black', 'yellow', 'purple', 'orange', 'pink', 'whilte', 'brown']\n",
        "hsvs = cv2.cvtColor(rgb,cv2.COLOR_RGB2HSV)\n",
        "\n",
        "\n",
        "min_dist = 1000\n",
        "target_color = ''\n",
        "\n",
        "for i, color in enumerate(colors):\n",
        "  hsv = hsvs[0][i]\n",
        "\n",
        "  # hの値の上限だけ小さいので重みを高くする\n",
        "  hsv = [hsv[0]*2, hsv[1], hsv[2]]\n",
        "\n",
        "  # typeがlistになっているのでnumpyに戻す(np.linalg.normのため)\n",
        "  hsv = np.array(hsv)\n",
        "\n",
        "  t = [target[0][0][0]*2, target[0][0][1], target[0][0][1]]\n",
        "  t = np.array(t)\n",
        "\n",
        "  dist = np.linalg.norm(t - hsv)\n",
        "  print('dist of {} is {}'.format(color, dist))\n",
        "  if min_dist > dist:\n",
        "    target_color = color\n",
        "    min_dist = dist\n",
        "\n",
        "print(target_color)\n",
        "# print('target', target)\n",
        "\n",
        "\n",
        "# for i, color in enumerate(colors):\n",
        "# #   print(\"{} hsv is {}\".format(color, hsvs[0][i]))\n",
        "#   print(\"{} : {}\".format(color, hsvs[0][i]))\n",
        "\n",
        "# print(hsv)"
      ],
      "execution_count": null,
      "outputs": [
        {
          "output_type": "stream",
          "text": [
            "dist of green is 209.42301688209918\n",
            "dist of red is 207.1183236703117\n",
            "dist of blue is 271.326371737065\n",
            "dist of black is 170.66927081346543\n",
            "dist of yellow is 199.44422779313518\n",
            "dist of purple is 282.1577572919093\n",
            "dist of orange is 200.214884561563\n",
            "dist of pink is 301.82445228973745\n",
            "dist of whilte is 189.77091452590938\n",
            "dist of brown is 113.69256791892775\n",
            "brown\n"
          ],
          "name": "stdout"
        }
      ]
    },
    {
      "cell_type": "code",
      "metadata": {
        "id": "PI8d7pp2AnDV",
        "outputId": "f2632001-5777-49dc-d900-764a138738b9",
        "colab": {
          "base_uri": "https://localhost:8080/",
          "height": 408
        }
      },
      "source": [
        "# colorCategorize by CIE LAB\n",
        "\n",
        "import numpy as np\n",
        "import cv2\n",
        "import matplotlib.pyplot as plt\n",
        "\n",
        "\n",
        "\n",
        "rgb = np.uint8([[[0,255,0], # green\n",
        "                 [255, 0, 0],# red\n",
        "                 [0, 0, 255],# blue\n",
        "                 [0, 0, 0],#   black\n",
        "                 [255, 255, 0],#  yellow\n",
        "                 [128, 0, 128],#  purple\n",
        "                 [255, 165, 0],#  orange\n",
        "                 [255, 102, 204],# pink\n",
        "                 [255, 255, 255],# white\n",
        "                 [205, 133, 63],# brown\n",
        "                 ]])\n",
        "\n",
        "labs = cv2.cvtColor(rgb, cv2.COLOR_RGB2Lab)\n",
        "\n",
        "colors = ['green', 'red', 'blue', 'black', 'yellow', 'purple', 'orange', 'pink', 'whilte', 'brown']\n",
        "\n",
        "target = np.uint8([[[224, 218, 124]]])# yellow\n",
        "target = cv2.cvtColor(target, cv2.COLOR_RGB2Lab)\n",
        "\n",
        "\n",
        "min_dist = 1000\n",
        "target_color = ''\n",
        "\n",
        "for i, color in enumerate(colors):\n",
        "  lab = labs[0][i]\n",
        "  lab = [lab[0]*0.392156, lab[1]-128, lab[2]-128]\n",
        "  lab = np.array(lab)\n",
        "\n",
        "  t = target[0][0]\n",
        "  t = [t[0]*0.392156, t[1]-128, t[2]-128]# L/255*100 = 0.392156\n",
        "  t = np.array(t)\n",
        "\n",
        "  dist = np.linalg.norm(t - lab)\n",
        "  print('dist of {} is {}'.format(color, dist))\n",
        "  if min_dist > dist:\n",
        "    target_color = color\n",
        "    min_dist = dist\n",
        "\n",
        "print(target_color)\n",
        "\n",
        "# for i, color in enumerate(colors):\n",
        "#   # print(\"{} lab is {}\".format(color, labs[0][i]))\n",
        "  # print(\"{} : {}\".format(color, labs[0][i]))\n",
        "\n",
        "\n",
        "\n",
        "print(target)\n",
        "print(labs)\n",
        "# print(\"{} {} {}\".format(labs[0],))"
      ],
      "execution_count": null,
      "outputs": [
        {
          "output_type": "stream",
          "text": [
            "dist of green is 83.21565152186456\n",
            "dist of red is 98.6936371601873\n",
            "dist of blue is 187.11337631644184\n",
            "dist of black is 98.51774506820027\n",
            "dist of yellow is 50.54042245698562\n",
            "dist of purple is 122.88521728891098\n",
            "dist of orange is 48.67821362185987\n",
            "dist of pink is 108.81635097724026\n",
            "dist of whilte is 50.292216908021224\n",
            "dist of brown is 39.96547169417942\n",
            "brown\n",
            "[[[219 117 175]]]\n",
            "[[[224  42 211]\n",
            "  [136 208 195]\n",
            "  [ 82 207  20]\n",
            "  [  0 128 128]\n",
            "  [248 106 223]\n",
            "  [ 76 187  91]\n",
            "  [191 152 207]\n",
            "  [168 197 104]\n",
            "  [255 128 128]\n",
            "  [158 149 176]]]\n"
          ],
          "name": "stdout"
        }
      ]
    },
    {
      "cell_type": "code",
      "metadata": {
        "id": "BvWJZTDr5vVg",
        "outputId": "68450a39-db6d-47a9-f0fd-d829da288f4f",
        "colab": {
          "base_uri": "https://localhost:8080/",
          "height": 195
        }
      },
      "source": [
        "# colorCategorize by CIE de 2000\n",
        "\n",
        "import numpy as np\n",
        "import cv2\n",
        "import matplotlib.pyplot as plt\n",
        "\n",
        "\n",
        "\n",
        "rgb = np.uint8([[[0,255,0], # green\n",
        "                 [255, 0, 0],# red\n",
        "                 [0, 0, 255],# blue\n",
        "                 [0, 0, 0],#   black\n",
        "                 [255, 255, 0],#  yellow\n",
        "                 [128, 0, 128],#  purple\n",
        "                 [255, 165, 0],#  orange\n",
        "                 [255, 102, 204],# pink\n",
        "                 [255, 255, 255],# white\n",
        "                 [205, 133, 63],# brown\n",
        "                 ]])\n",
        "\n",
        "labs = cv2.cvtColor(rgb, cv2.COLOR_RGB2Lab)\n",
        "\n",
        "colors = ['green', 'red', 'blue', 'black', 'yellow', 'purple', 'orange', 'pink', 'whilte', 'brown']\n",
        "\n",
        "target = np.uint8([[[224, 218, 124]]])# yellow\n",
        "target = cv2.cvtColor(target, cv2.COLOR_RGB2Lab)\n",
        "\n",
        "# colorsとtargetを本来の範囲に戻す\n",
        "\n",
        "\n",
        "\n",
        "# min_dist = 1000\n",
        "# target_color = ''\n",
        "\n",
        "# # print(target_color)\n",
        "\n",
        "\n",
        "\n",
        "# for i, color in enumerate(colors):\n",
        "# #   # print(\"{} lab is {}\".format(color, labs[0][i]))\n",
        "#   print(\"{} : {}\".format(color, labs[0][i]))\n",
        "\n",
        "# for i, color in enumerate(colors):\n",
        "#   print(\"{} {} {}\".format(labs[0][i][0], labs[0][i][1], labs[0][i][2]) + \" {} {} {}\".format(target[0][0][0], target[0][0][1], target[0][0][2]))\n",
        "\n",
        "# # print(target)\n",
        "\n"
      ],
      "execution_count": null,
      "outputs": [
        {
          "output_type": "stream",
          "text": [
            "224 42 211 219 117 175\n",
            "136 208 195 219 117 175\n",
            "82 207 20 219 117 175\n",
            "0 128 128 219 117 175\n",
            "248 106 223 219 117 175\n",
            "76 187 91 219 117 175\n",
            "191 152 207 219 117 175\n",
            "168 197 104 219 117 175\n",
            "255 128 128 219 117 175\n",
            "158 149 176 219 117 175\n"
          ],
          "name": "stdout"
        }
      ]
    },
    {
      "cell_type": "code",
      "metadata": {
        "id": "oYBuXXf6bvth"
      },
      "source": [
        "# 各色のhsvの範囲\n",
        "\n",
        "# yellow\n",
        "hsvLower = np.array([30, 153, 255])    # 抽出する色の下限\n",
        "hsvUpper = np.array([30, 153, 255])    # 抽出する色の上限\n",
        "\n",
        "# red\n",
        "hsv_min = np.array([0,64,0])\n",
        "hsv_max = np.array([30,255,255])\n",
        "hsv_min = np.array([150,64,0])\n",
        "hsv_max = np.array([179,255,255])# 180らへんと0らへんで分ける\n",
        "hsv_min = np.array([30, 64, 0])\n",
        "hsv_max = np.array([90,255,255])\n",
        "\n",
        "# blue\n",
        "hsv_min = np.array([90, 64, 0])\n",
        "hsv_max = np.array([150,255,255])\n",
        "\n",
        "\n",
        "# green\n"
      ],
      "execution_count": null,
      "outputs": []
    },
    {
      "cell_type": "code",
      "metadata": {
        "id": "lXSbDzg53AfP",
        "outputId": "fedddfe8-a3b8-45a1-ca92-1a2bb2dc2815",
        "colab": {
          "base_uri": "https://localhost:8080/",
          "height": 372
        }
      },
      "source": [
        "# 色差計算サイトを使うためのコード群\n",
        "# url https://plkl.sakura.ne.jp/?page_id=397\n",
        "\n",
        "import numpy as np\n",
        "import cv2\n",
        "import matplotlib.pyplot as plt\n",
        "\n",
        "\n",
        "colors = ['green', 'red', 'blue', 'black', 'yellow', 'purple', 'orange', 'pink', 'whilte', 'brown']\n",
        "\n",
        "rgb = np.uint8([[[0,255,0], # green\n",
        "                 [255, 0, 0],# red\n",
        "                 [0, 0, 255],# blue\n",
        "                 [0, 0, 0],#   black\n",
        "                 [255, 255, 0],#  yellow\n",
        "                 [128, 0, 128],#  purple\n",
        "                 [255, 165, 0],#  orange\n",
        "                 [255, 102, 204],# pink\n",
        "                 [255, 255, 255],# white\n",
        "                 [205, 133, 63],# brown\n",
        "                 ]])\n",
        "\n",
        "labs = cv2.cvtColor(rgb, cv2.COLOR_RGB2Lab)\n",
        "\n",
        "target = np.uint8([[[134, 141, 52]]])# red\n",
        "target = cv2.cvtColor(target, cv2.COLOR_RGB2Lab)\n",
        "# print(target)\n",
        "t = target[0][0]\n",
        "t = [t[0]*0.392156, t[1]-128, t[2]-128]# L/255*100 = 0.392156\n",
        "correct_target = np.float32(t)\n",
        "\n",
        "correct_labs = np.zeros_like(labs).astype(np.float32)\n",
        "for i, color in enumerate(colors):\n",
        "  lab = labs[0][i]\n",
        "  lab = [lab[0]*0.392156, lab[1]-128, lab[2]-128]\n",
        "  correct_labs[0][i] = np.float32(lab)\n",
        "\n",
        "# for i in range(0, 10):\n",
        "#   if correct_labs[0][i][1] == labs[0][i][1]-128:\n",
        "#     print('wrong', i)\n",
        "#     print(correct_labs[0][i][1], labs[0][i][1]-128)\n",
        "\n",
        "# print(target)\n",
        "print(labs)\n",
        "print(correct_labs)"
      ],
      "execution_count": null,
      "outputs": [
        {
          "output_type": "stream",
          "text": [
            "[[[224  42 211]\n",
            "  [136 208 195]\n",
            "  [ 82 207  20]\n",
            "  [  0 128 128]\n",
            "  [248 106 223]\n",
            "  [ 76 187  91]\n",
            "  [191 152 207]\n",
            "  [168 197 104]\n",
            "  [255 128 128]\n",
            "  [158 149 176]]]\n",
            "[[[  87.84294   -86.         83.      ]\n",
            "  [  53.333218   80.         67.      ]\n",
            "  [  32.15679    79.       -108.      ]\n",
            "  [   0.          0.          0.      ]\n",
            "  [  97.254684  -22.         95.      ]\n",
            "  [  29.803856   59.        -37.      ]\n",
            "  [  74.901794   24.         79.      ]\n",
            "  [  65.88221    69.        -24.      ]\n",
            "  [  99.99978     0.          0.      ]\n",
            "  [  61.960648   21.         48.      ]]]\n"
          ],
          "name": "stdout"
        }
      ]
    },
    {
      "cell_type": "code",
      "metadata": {
        "id": "WPEpBNFKT-Iz",
        "outputId": "3d103a67-6638-4361-c1e5-ce1b3a0c7177",
        "colab": {
          "base_uri": "https://localhost:8080/",
          "height": 195
        }
      },
      "source": [
        "for i, color in enumerate(colors):\n",
        "  print(\"{} {} {}\".format(correct_labs[0][i][0], correct_labs[0][i][1], correct_labs[0][i][2]) + \" {} {} {}\".format(correct_target[0], correct_target[1], correct_target[2]))\n",
        "# print(correct_target)"
      ],
      "execution_count": null,
      "outputs": [
        {
          "output_type": "stream",
          "text": [
            "87.84294128417969 -86.0 83.0 56.470462799072266 -15.0 45.0\n",
            "53.33321762084961 80.0 67.0 56.470462799072266 -15.0 45.0\n",
            "32.15679168701172 79.0 -108.0 56.470462799072266 -15.0 45.0\n",
            "0.0 0.0 0.0 56.470462799072266 -15.0 45.0\n",
            "97.25468444824219 -22.0 95.0 56.470462799072266 -15.0 45.0\n",
            "29.803855895996094 59.0 -37.0 56.470462799072266 -15.0 45.0\n",
            "74.90179443359375 24.0 79.0 56.470462799072266 -15.0 45.0\n",
            "65.88220977783203 69.0 -24.0 56.470462799072266 -15.0 45.0\n",
            "99.9997787475586 0.0 0.0 56.470462799072266 -15.0 45.0\n",
            "61.96064758300781 21.0 48.0 56.470462799072266 -15.0 45.0\n"
          ],
          "name": "stdout"
        }
      ]
    },
    {
      "cell_type": "code",
      "metadata": {
        "id": "76EJWcQrGMkq",
        "outputId": "81114982-1a72-4e0b-c740-73396cb637d8",
        "colab": {
          "base_uri": "https://localhost:8080/",
          "height": 212
        }
      },
      "source": [
        "# memo\n",
        "\n",
        "s = \"\"\"\n",
        "87.84294128417969 -86.0 83.0 56.470462799072266 -15.0 45.0 86.42472103685685 31.77720308168713\n",
        "53.33321762084961 80.0 67.0 56.470462799072266 -15.0 45.0 97.5645545641873 49.489456685549094\n",
        "32.15679168701172 79.0 -108.0 56.470462799072266 -15.0 45.0 181.20749047140808 78.7080717956268\n",
        "0.0 0.0 0.0 56.470462799072266 -15.0 45.0 73.74898757773835 48.6530132010607\n",
        "97.25468444824219 -22.0 95.0 56.470462799072266 -15.0 45.0 64.90264043572203 31.64551818805809\n",
        "29.803855895996094 59.0 -37.0 56.470462799072266 -15.0 45.0 113.62705630140732 70.80492078219883\n",
        "74.90179443359375 24.0 79.0 56.470462799072266 -15.0 45.0 54.92462094381455 29.406133133549826\n",
        "65.88220977783203 69.0 -24.0 56.470462799072266 -15.0 45.0 109.11269853317805 66.31006558537227\n",
        "99.9997787475586 0.0 0.0 56.470462799072266 -15.0 45.0 64.38013161638571 38.448449180320516\n",
        "61.96064758300781 21.0 48.0 56.470462799072266 -15.0 45.0 36.539596726862726 25.23365216318493\n",
        "\"\"\"\n",
        "\n",
        "n = np.uint8([])\n",
        "\n",
        "s = s.split()\n",
        "for i in range(7, 80, 8):\n",
        "  print(s[i])\n",
        "  n = np.append(n, s[i])\n",
        "\n",
        "print(colors[np.argmin(n)])\n",
        "\n",
        "colors = ['green', 'red', 'blue', 'black', 'yellow', 'purple', 'orange', 'pink', 'whilte', 'brown']"
      ],
      "execution_count": null,
      "outputs": [
        {
          "output_type": "stream",
          "text": [
            "31.77720308168713\n",
            "49.489456685549094\n",
            "78.7080717956268\n",
            "48.6530132010607\n",
            "31.64551818805809\n",
            "70.80492078219883\n",
            "29.406133133549826\n",
            "66.31006558537227\n",
            "38.448449180320516\n",
            "25.23365216318493\n",
            "brown\n"
          ],
          "name": "stdout"
        }
      ]
    }
  ]
}