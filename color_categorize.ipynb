{
  "nbformat": 4,
  "nbformat_minor": 0,
  "metadata": {
    "colab": {
      "name": "color_categorize.ipynb",
      "provenance": [],
      "collapsed_sections": [],
      "mount_file_id": "1EwyPuNFJyFN3VoDXMAX5y4C893AOGrJI",
      "authorship_tag": "ABX9TyOvsz3RqAEuD45BSLPtlnDg",
      "include_colab_link": true
    },
    "kernelspec": {
      "name": "python3",
      "display_name": "Python 3"
    }
  },
  "cells": [
    {
      "cell_type": "markdown",
      "metadata": {
        "id": "view-in-github",
        "colab_type": "text"
      },
      "source": [
        "<a href=\"https://colab.research.google.com/github/oonya/image-processing/blob/master/color_categorize.ipynb\" target=\"_parent\"><img src=\"https://colab.research.google.com/assets/colab-badge.svg\" alt=\"Open In Colab\"/></a>"
      ]
    },
    {
      "cell_type": "code",
      "metadata": {
        "id": "hs5yR13NTVJw",
        "colab_type": "code",
        "colab": {
          "base_uri": "https://localhost:8080/",
          "height": 408
        },
        "outputId": "146cb54c-cb7d-4cc7-8092-384c3da21762"
      },
      "source": [
        "import numpy as np\n",
        "import cv2\n",
        "import matplotlib.pyplot as plt\n",
        "\n",
        "\n",
        "target = np.uint8([[[119, 142, 21]]])# green\n",
        "target = cv2.cvtColor(target, cv2.COLOR_RGB2HSV)\n",
        "\n",
        "rgb = np.uint8([[[0,255,0], # green\n",
        "                 [255, 0, 0],# red\n",
        "                 [0, 0, 255],# blue\n",
        "                 [0, 0, 0],#   black\n",
        "                 [255, 255, 0],#  yellow\n",
        "                 [128, 0, 128],#  purple\n",
        "                 [255, 165, 0],#  orange\n",
        "                 [255, 102, 204],# pink\n",
        "                 [255, 255, 255],# white\n",
        "                 [205, 133, 63],# brown\n",
        "                 ]])\n",
        "\n",
        "colors = ['green', 'red', 'blue', 'black', 'yellow', 'purple', 'orange', 'pink', 'whilte', 'brown']\n",
        "hsvs = cv2.cvtColor(rgb,cv2.COLOR_RGB2HSV)\n",
        "\n",
        "\n",
        "min_dist = 1000\n",
        "target_color = ''\n",
        "\n",
        "for i, color in enumerate(colors):\n",
        "  hsv = hsvs[0][i]\n",
        "\n",
        "  # hの値の上限だけ小さいので重みを高くする\n",
        "  hsv = [hsv[0]*2, hsv[1], hsv[2]]\n",
        "\n",
        "  # typeがlistになっているのでnumpyに戻す(np.linalg.normのため)\n",
        "  hsv = np.array(hsv)\n",
        "\n",
        "  t = [target[0][0][0]*2, target[0][0][1], target[0][0][1]]\n",
        "  t = np.array(t)\n",
        "\n",
        "  dist = np.linalg.norm(t - hsv)\n",
        "  print('dist of {} is {}'.format(color, dist))\n",
        "  if min_dist > dist:\n",
        "    target_color = color\n",
        "    min_dist = dist\n",
        "\n",
        "print(target_color)\n",
        "print('target', target)\n",
        "\n",
        "\n",
        "for i, color in enumerate(colors):\n",
        "#   print(\"{} hsv is {}\".format(color, hsvs[0][i]))\n",
        "  print(\"{} : {}\".format(color, hsvs[0][i]))\n",
        "\n",
        "# print(hsv)"
      ],
      "execution_count": null,
      "outputs": [
        {
          "output_type": "stream",
          "text": [
            "dist of green is 72.05553413860729\n",
            "dist of red is 89.8443097808648\n",
            "dist of blue is 176.38594048279472\n",
            "dist of black is 315.21738530734626\n",
            "dist of yellow is 55.06359959174482\n",
            "dist of purple is 247.6873028639135\n",
            "dist of orange is 63.592452382338585\n",
            "dist of pink is 258.92856157635447\n",
            "dist of whilte is 231.769281830013\n",
            "dist of brown is 59.22837157984339\n",
            "yellow\n",
            "target [[[ 36 217 142]]]\n",
            "green : [ 60 255 255]\n",
            "red : [  0 255 255]\n",
            "blue : [120 255 255]\n",
            "black : [0 0 0]\n",
            "yellow : [ 30 255 255]\n",
            "purple : [150 255 128]\n",
            "orange : [ 19 255 255]\n",
            "pink : [160 153 255]\n",
            "whilte : [  0   0 255]\n",
            "brown : [ 15 177 205]\n"
          ],
          "name": "stdout"
        }
      ]
    }
  ]
}